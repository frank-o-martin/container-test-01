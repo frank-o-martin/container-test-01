{
 "cells": [
  {
   "cell_type": "markdown",
   "id": "0d742408",
   "metadata": {},
   "source": [
    "# This is Notebook #1 with some fundamental examples"
   ]
  },
  {
   "cell_type": "code",
   "execution_count": 2,
   "id": "2a80afe1",
   "metadata": {},
   "outputs": [
    {
     "name": "stdout",
     "output_type": "stream",
     "text": [
      "Hello from Notebook #1\n"
     ]
    }
   ],
   "source": [
    "print(f\"Hello from Notebook #1\")"
   ]
  }
 ],
 "metadata": {
  "kernelspec": {
   "display_name": ".venv",
   "language": "python",
   "name": "python3"
  },
  "language_info": {
   "codemirror_mode": {
    "name": "ipython",
    "version": 3
   },
   "file_extension": ".py",
   "mimetype": "text/x-python",
   "name": "python",
   "nbconvert_exporter": "python",
   "pygments_lexer": "ipython3",
   "version": "3.13.7"
  }
 },
 "nbformat": 4,
 "nbformat_minor": 5
}
